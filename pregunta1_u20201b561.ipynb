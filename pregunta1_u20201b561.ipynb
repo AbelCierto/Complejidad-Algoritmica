{
  "nbformat": 4,
  "nbformat_minor": 0,
  "metadata": {
    "colab": {
      "provenance": []
    },
    "kernelspec": {
      "name": "python3",
      "display_name": "Python 3"
    },
    "language_info": {
      "name": "python"
    }
  },
  "cells": [
    {
      "cell_type": "markdown",
      "source": [
        "#Pregunta 1"
      ],
      "metadata": {
        "id": "M9Ij8FWm076m"
      }
    },
    {
      "cell_type": "markdown",
      "source": [
        "Escriba un algoritmo en Python que implemente una función recursiva, que reciba como parametro un número n>0, y devuelva la suma de los dobles de los números desde 1 a n (ambos incluidos).\n",
        "\n",
        "Ejemplo:\n",
        "\n",
        "Input\n",
        "\n",
        "n = 4\n",
        "\n",
        "DobleSuma (n)\n",
        "\n",
        "Output\n",
        "\n",
        "20\n",
        "\n",
        "(equivale a 2x1+2x2+2x3+2x4)"
      ],
      "metadata": {
        "id": "Xck3CWurz60P"
      }
    },
    {
      "cell_type": "code",
      "source": [
        "def dobleSuma(n):\n",
        "  result = n *2\n",
        "  if n == 1:\n",
        "    return 2*1\n",
        "  else:\n",
        "    result = result + dobleSuma(n-1)\n",
        "    return result"
      ],
      "metadata": {
        "id": "egT-Yqg4z9N-"
      },
      "execution_count": 3,
      "outputs": []
    },
    {
      "cell_type": "code",
      "source": [
        "dobleSuma(4)"
      ],
      "metadata": {
        "colab": {
          "base_uri": "https://localhost:8080/"
        },
        "id": "8SKm9w8b0PEe",
        "outputId": "858da8e7-c232-4f17-d4b6-0c47b9a1a019"
      },
      "execution_count": 7,
      "outputs": [
        {
          "output_type": "execute_result",
          "data": {
            "text/plain": [
              "20"
            ]
          },
          "metadata": {},
          "execution_count": 7
        }
      ]
    }
  ]
}