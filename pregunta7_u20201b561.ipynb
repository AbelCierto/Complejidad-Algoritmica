{
  "nbformat": 4,
  "nbformat_minor": 0,
  "metadata": {
    "colab": {
      "provenance": []
    },
    "kernelspec": {
      "name": "python3",
      "display_name": "Python 3"
    },
    "language_info": {
      "name": "python"
    }
  },
  "cells": [
    {
      "cell_type": "markdown",
      "source": [
        "#Pregunta 7\n",
        "Escriba un algoritmo en Python que implemente una función recursiva que reciba como parámetro un entero positivo n, e imprima todas las combinaciones de números entre 1 y nsuma n. \n",
        "\n",
        "Ejemplos:\n",
        "\n",
        "Input\n",
        "\n",
        "Para n = 5 \n",
        "\n",
        "imprimeCombinaciones (n) \n",
        "\n",
        "Output\n",
        "\n",
        "{ 5 }\n",
        "\n",
        "{ 1, 4 }\n",
        "\n",
        "{ 2, 3 }\n",
        "\n",
        "{ 1, 1, 3 }\n",
        "\n",
        "{ 1, 2, 2 }\n",
        "\n",
        "{ 1, 1, 1, 2 }\n",
        "\n",
        "{ 1, 1, 1, 1, 1 }\n",
        "\n",
        "\n",
        "Input\n",
        "\n",
        "n = 4\n",
        "\n",
        "Output\n",
        "\n",
        "{ 4 }\n",
        "\n",
        "{ 1, 3 }\n",
        "\n",
        "{ 2, 2 }\n",
        "\n",
        "{ 1, 1, 2 }\n",
        "\n",
        "{ 1, 1, 1, 1 }"
      ],
      "metadata": {
        "id": "ILtnKOgzADye"
      }
    },
    {
      "cell_type": "code",
      "source": [
        "def imprimeCombinaciones(n):\n",
        "    combinaciones = set()\n",
        "    def recuento(pasos, ruta):\n",
        "        if not pasos:\n",
        "            combinaciones.add(\"\".join(sorted(ruta)))\n",
        "            return\n",
        "        for data_actual in range(1, min(pasos, n) + 1):\n",
        "            recuento(pasos - data_actual, ruta + str(data_actual))\n",
        "\n",
        "    recuento(n, \"\")\n",
        "    for i in range(len(combinaciones)):\n",
        "      for fila in combinaciones:\n",
        "        if len(fila) == i:\n",
        "          print(list(map(int, fila)))\n",
        "        \n",
        "\n",
        "imprimeCombinaciones(5)\n"
      ],
      "metadata": {
        "colab": {
          "base_uri": "https://localhost:8080/"
        },
        "id": "wSmvxlr7BGQP",
        "outputId": "06f89d12-17fe-4cab-d002-8fc95b75f543"
      },
      "execution_count": 24,
      "outputs": [
        {
          "output_type": "stream",
          "name": "stdout",
          "text": [
            "[5]\n",
            "[2, 3]\n",
            "[1, 4]\n",
            "[1, 1, 3]\n",
            "[1, 2, 2]\n",
            "[1, 1, 1, 2]\n",
            "[1, 1, 1, 1, 1]\n"
          ]
        }
      ]
    }
  ]
}