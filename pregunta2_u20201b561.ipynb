{
  "nbformat": 4,
  "nbformat_minor": 0,
  "metadata": {
    "colab": {
      "provenance": []
    },
    "kernelspec": {
      "name": "python3",
      "display_name": "Python 3"
    },
    "language_info": {
      "name": "python"
    }
  },
  "cells": [
    {
      "cell_type": "markdown",
      "source": [
        "#Pregunta 2\n",
        "Escriba un algoritmo en Python que implemente una función recursiva que reciba como parámetro una lista conteniendo ya sea ítems de números enteros y sublistas de enteros, y devuelva la suma total de todos los ítems.\n",
        "\n",
        "Ejemplo:\n",
        "\n",
        "Input\n",
        "\n",
        "lista = [1, 2, [3,4], [5,6] ]\n",
        "\n",
        "SumaEnterosdeLista (lista) \n",
        "\n",
        "Output\n",
        "\n",
        "21\n",
        "\n",
        "(equivale a (1+2) + (3+4) + (5+6))"
      ],
      "metadata": {
        "id": "D5lpnVmC1sWf"
      }
    },
    {
      "cell_type": "code",
      "execution_count": 31,
      "metadata": {
        "id": "sXyOJ-ni1q2S"
      },
      "outputs": [],
      "source": [
        "def sumaEnterosLista(lista):\n",
        "  suma = 0\n",
        "  for item in lista:   \n",
        "    if type(item) == int:\n",
        "      suma += item\n",
        "    else:\n",
        "      suma += sumaEnterosLista(item)\n",
        "  return suma"
      ]
    },
    {
      "cell_type": "code",
      "source": [
        "lst = [1, 2, [3,4], [5,6]]\n",
        "sumaEnterosLista(lst)"
      ],
      "metadata": {
        "colab": {
          "base_uri": "https://localhost:8080/"
        },
        "id": "8XS6oYIS2YP_",
        "outputId": "b560b358-2be4-47ff-ca73-60612245b3d2"
      },
      "execution_count": 32,
      "outputs": [
        {
          "output_type": "execute_result",
          "data": {
            "text/plain": [
              "21"
            ]
          },
          "metadata": {},
          "execution_count": 32
        }
      ]
    }
  ]
}